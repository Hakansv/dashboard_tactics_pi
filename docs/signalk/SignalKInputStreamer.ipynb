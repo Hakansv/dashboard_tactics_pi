{
 "cells": [
  {
   "cell_type": "markdown",
   "metadata": {},
   "source": [
    "# Signal K input streamer"
   ]
  },
  {
   "cell_type": "markdown",
   "metadata": {},
   "source": [
    "You have probably already used or got interested in [Signal K](https://signalk.org/overview.html), a free and open source marine data exchange format. If not, let's hope that that the Signal K input streamer of Dashboard-Tactics plug-in of OpenCPN gets you motivated to start moving your boat's instrumentation from 1990's to 2020's!\n",
    "\n",
    "You may want to skip the theory and move directly to the _Signal K input streamer usage_ ([ipynb](SignalKInputStreamer.ipynb) | [html](SignalKInputStreamer.html) | [pdf](SignalKInputStreamer.pdf))."
   ]
  },
  {
   "cell_type": "markdown",
   "metadata": {},
   "source": [
    "## Introduction"
   ]
  },
  {
   "cell_type": "markdown",
   "metadata": {},
   "source": [
    "The Signal K input streamer of Dashboard Tactics plug-in has been designed to meet the following three requirements:"
   ]
  },
  {
   "cell_type": "markdown",
   "metadata": {},
   "source": [
    "1. Read data in NMEA-0183, NMEA-2000 and Signal K data sources\n",
    "2. Provide data with millisecond resolution timestamps closest to the data source possible\n",
    "3. Reduce the jitter and latency from the data source to the instruments"
   ]
  },
  {
   "cell_type": "markdown",
   "metadata": {},
   "source": [
    "Increasing of performance is out of scope - neither the Signal K input streamer nor Dashboard Tactics pretend to miraculously increase the throughput or multiply the update frequency of your boat's instrumentation."
   ]
  },
  {
   "cell_type": "markdown",
   "metadata": {},
   "source": [
    "## Example system configuration"
   ]
  },
  {
   "cell_type": "markdown",
   "metadata": {},
   "source": [
    "The below diagram illustrates an example configuration which does not require to invest on any new hardware if one already is using TCP/IP (network) or USB to get the NMEA-0183 data into the OpenCPN chartplotter."
   ]
  },
  {
   "cell_type": "markdown",
   "metadata": {},
   "source": [
    "![signalkin-instrudiagram-1.png](signalkin-instrudiagram-1.png) [(zoom)](img/signalkin-instrudiagram-1.png)"
   ]
  },
  {
   "cell_type": "markdown",
   "metadata": {},
   "source": [
    "The Raspberry Pi 4 4G running Raspian is configured as a WiFi hotspot while underway. A cockpit tablet (not illustrated) is used to connect to it using a browser. It has a local screen and keyboard/trackball on the chart table."
   ]
  },
  {
   "cell_type": "markdown",
   "metadata": {},
   "source": [
    "The Windows 10 laptop is used as backup navigation computer and to collect and visualize meteorological data."
   ]
  },
  {
   "cell_type": "markdown",
   "metadata": {},
   "source": [
    "Both systems are having OpenCPN v5 with Dashboard-Tactics plug-in."
   ]
  },
  {
   "cell_type": "markdown",
   "metadata": {},
   "source": [
    "Other such configurations exists - Signal K provides [more examples](https://signalk.org/installation.html); [OpenPlotter](http://www.sailoog.com/openplotter) project provides entire packages containing all the necessary software components for Debian based computers."
   ]
  },
  {
   "cell_type": "markdown",
   "metadata": {},
   "source": [
    "## Jitter and latency in OpenCPN / Dashboard data distribution"
   ]
  },
  {
   "cell_type": "markdown",
   "metadata": {},
   "source": [
    "The third requirement, reduction in jitter and latency in the data distribution is the hardest to meet. In this section we will analyze the data signal path in OpenCPN with plug-ins and, of course in Dashboard plug-in."
   ]
  },
  {
   "cell_type": "markdown",
   "metadata": {},
   "source": [
    "Typically, one would need a two channel oscilloscope or accurate timestamps from different phases of the data acquisition chanin to determine the inaccuracies in timing caused by signal chain. Hpwever, the data in boat systems is sometime coming from systems which are so old or based on old technologies that one can actually see the jitter with the naked eye; values in instruments are jumping back and forth and, especially very well visible in the dial instrument's needle is that the frequency of the jumping is not constant."
   ]
  },
  {
   "cell_type": "markdown",
   "metadata": {},
   "source": [
    "It is to be reminded that it is not normal for any system which attempts to give information about the analog world to give feedback to the user for example with a needed which is not following the real-life signal as accurately as possible."
   ]
  },
  {
   "cell_type": "markdown",
   "metadata": {},
   "source": [
    "Taking the example of the dial instrument's needle, it shall move so smoothly that eventual micro-movements are not visible to the human eye. Furthermore, this movement shall be as accurate as possible reflecting in real-time the actual, measured signal. Filters shall be applied only at user's demand so that the observer is always in control. Even if the filters are applied, it should be possible to keep both the original data and the resulting filtered data for off-line analysis - blind faith is not an instrumentation paradigm. "
   ]
  },
  {
   "cell_type": "markdown",
   "metadata": {},
   "source": [
    "OpenCPN / Dashboard cannot do anything for the data update frequency, it is for you to update your boat's instrumentation keeping in mind that for any algorithm it is essential to have as much as possible information about the boat's movements, its heading and wind condition it is facing."
   ]
  },
  {
   "cell_type": "markdown",
   "metadata": {},
   "source": [
    "OpenCPN chartplotter, Dashboard plug-in and the other plug-ins create an extremely complicated system what comes to its dynamic behaviour. It is not a surprise that it introduces jitter and latency in the signal chain by its location between the user and his or her data sources, i.e. the boat's sensors. Of course, the boat's own electronics play an equally important role in this, but since we cannot present an universal model for those, let's study the signal chain from the point onwards where it enters OpenCPN, _i.e._ from USB serial line or WiFi/Ethernet TCP/IP communication in our case."
   ]
  },
  {
   "cell_type": "markdown",
   "metadata": {},
   "source": [
    "Below diagram illustrates the signal chain from the point of view of Dashboard plug-in, which is the module we plan to modify."
   ]
  },
  {
   "cell_type": "markdown",
   "metadata": {},
   "source": [
    "![signalkin-instrudiagram-2.png](signalkin-instrudiagram-2.png) [(zoom)](img/signalkin-instrudiagram-2.png)"
   ]
  },
  {
   "cell_type": "markdown",
   "metadata": {},
   "source": [
    "OpenCPN is based on [wxWidgets](https://www.wxwidgets.org/) Graphical User Interface (GUI) framework, and like many of them it is event driven: clicking a button is an event; moving a window over another creates events which need to be handled in both windows - an excellent and well established principle for such a software framework. But it is less useful for a data acquisition system unless there is a prioritization schema which allows the data event dealt with as a high priority interrupt which allows the continous transport of the arrived data all the way through the system. But if we would follow such as principle, the actual GUI operation could become sluggish and, in general the priority is given to the graphical elements visible to user."
   ]
  },
  {
   "cell_type": "markdown",
   "metadata": {},
   "source": [
    "OpenCPN is not a multithreaded in application in the POSIX sence of view - in "
   ]
  },
  {
   "cell_type": "markdown",
   "metadata": {},
   "source": [
    "User's Guide ([ipynb](influxdb/InfluxDBStreamer.ipynb) | [html](influxdb/InfluxDBStreamer.html) | [pdf](influxdb/InfluxDBStreamer.pdf))"
   ]
  }
 ],
 "metadata": {
  "kernelspec": {
   "display_name": "Python 3",
   "language": "python",
   "name": "python3"
  },
  "language_info": {
   "codemirror_mode": {
    "name": "ipython",
    "version": 3
   },
   "file_extension": ".py",
   "mimetype": "text/x-python",
   "name": "python",
   "nbconvert_exporter": "python",
   "pygments_lexer": "ipython3",
   "version": "3.7.4"
  }
 },
 "nbformat": 4,
 "nbformat_minor": 4
}
